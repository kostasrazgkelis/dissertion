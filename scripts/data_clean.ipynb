{
 "cells": [
  {
   "cell_type": "code",
   "execution_count": 21,
   "metadata": {},
   "outputs": [],
   "source": [
    "import pandas as pd\n",
    "from jellyfish import soundex\n",
    "import hashlib\n"
   ]
  },
  {
   "cell_type": "code",
   "execution_count": null,
   "metadata": {},
   "outputs": [],
   "source": [
    "def sha256_hash(value):\n",
    "    return hashlib.sha256(value.encode()).hexdigest()"
   ]
  },
  {
   "cell_type": "code",
   "execution_count": 38,
   "metadata": {},
   "outputs": [
    {
     "name": "stdout",
     "output_type": "stream",
     "text": [
      "Data split and saved successfully!\n"
     ]
    }
   ],
   "source": [
    "df = pd.read_csv('C://Users/Onelity-krazgkelis/Documents/VSCode Projects/KubeTest1/data/25p_800k_A.csv',\n",
    "                delimiter='|',\n",
    "                on_bad_lines='skip',\n",
    "                header=None )\n",
    "\n",
    "# Step 2: Calculate the size of each split\n",
    "n = len(df)\n",
    "split_size = n // 3  # Integer division to get the size of each part\n",
    "\n",
    "# Step 3: Split the DataFrame into three parts\n",
    "df1 = df.iloc[:split_size]\n",
    "df2 = df.iloc[split_size:2*split_size]\n",
    "df3 = df.iloc[2*split_size:]\n",
    "\n",
    "# Step 4: Apply the soundex and sha256_hash functions to each column\n",
    "for column in df2.columns:\n",
    "    df1.loc[:, column] = df1[column].apply(str).apply(soundex).apply(sha256_hash)\n",
    "\n",
    "for column in df2.columns:\n",
    "    df2.loc[:, column] = df2[column].apply(str).apply(soundex).apply(sha256_hash)\n",
    "\n",
    "for column in df3.columns:\n",
    "    df3.loc[:, column] = df3[column].apply(str).apply(soundex).apply(sha256_hash)\n",
    "\n",
    "# Step 5: Save each part to a new CSV file\n",
    "df1.to_csv('C://Users/Onelity-krazgkelis/Documents/VSCode Projects/KubeTest1/data/A_cleaned_1.csv', index=False, header=False, overwrite=True)\n",
    "df2.to_csv('C://Users/Onelity-krazgkelis/Documents/VSCode Projects/KubeTest1/data/A_cleaned_2.csv', index=False, header=False, overwrite=True)\n",
    "df3.to_csv('C://Users/Onelity-krazgkelis/Documents/VSCode Projects/KubeTest1/data/A_cleaned_3.csv', index=False, header=False, overwrite=True)\n",
    "\n",
    "print(\"Data split and saved successfully!\")"
   ]
  },
  {
   "cell_type": "code",
   "execution_count": 33,
   "metadata": {},
   "outputs": [],
   "source": []
  },
  {
   "cell_type": "code",
   "execution_count": null,
   "metadata": {},
   "outputs": [],
   "source": []
  }
 ],
 "metadata": {
  "kernelspec": {
   "display_name": "venv",
   "language": "python",
   "name": "python3"
  },
  "language_info": {
   "codemirror_mode": {
    "name": "ipython",
    "version": 3
   },
   "file_extension": ".py",
   "mimetype": "text/x-python",
   "name": "python",
   "nbconvert_exporter": "python",
   "pygments_lexer": "ipython3",
   "version": "3.12.7"
  }
 },
 "nbformat": 4,
 "nbformat_minor": 2
}
